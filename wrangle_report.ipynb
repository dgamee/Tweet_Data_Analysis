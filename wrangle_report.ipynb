{
 "cells": [
  {
   "cell_type": "markdown",
   "metadata": {},
   "source": [
    "## Reporting: wragle_report\n",
    "* Create a **300-600 word written report** called \"wrangle_report.pdf\" or \"wrangle_report.html\" that briefly describes your wrangling efforts. This is to be framed as an internal document."
   ]
  },
  {
   "cell_type": "markdown",
   "metadata": {},
   "source": [
    "## Introduction\n"
   ]
  },
  {
   "cell_type": "markdown",
   "metadata": {},
   "source": [
    "Data Wrangling is the process of transforming raw data into more readily used\n",
    "formats. Methods differ from project to project depending on the data we’re\n",
    "leveraging and the goal you’re trying to achieve.\n",
    "Some examples of data wrangling include:\n",
    "\n",
    "● Merging multiple data sources into a single dataset for analysis\n",
    "\n",
    "● Identifying gaps in data (for example, empty cells in a spreadsheet) and\n",
    "either filling or deleting them\n",
    "\n",
    "● Deleting data that’s either unnecessary or irrelevant to the project you’re\n",
    "working on\n",
    "\n",
    "● Identifying extreme outliers in data and either explaining the discrepancies\n",
    "or removing them so that analysis can take place\n"
   ]
  },
  {
   "cell_type": "markdown",
   "metadata": {},
   "source": [
    "## Project Objective"
   ]
  },
  {
   "cell_type": "markdown",
   "metadata": {},
   "source": [
    "The project objective was to perform data-wrangling analysis on the WeRateDog tweets from 2015 - 2017, which involves gathering, assessing and cleaning the datas"
   ]
  },
  {
   "cell_type": "markdown",
   "metadata": {},
   "source": [
    "### Gathering The Data"
   ]
  },
  {
   "cell_type": "markdown",
   "metadata": {},
   "source": [
    "Data was gathered from three different sources"
   ]
  },
  {
   "cell_type": "markdown",
   "metadata": {},
   "source": [
    "twitter_archive_enchanced.csv was directly downloaded from the udacity server."
   ]
  },
  {
   "cell_type": "markdown",
   "metadata": {},
   "source": [
    "tweet image prediction(image_predictions.tsv) was downloaded using the request libary"
   ]
  },
  {
   "cell_type": "markdown",
   "metadata": {},
   "source": [
    "tweet_json was downloaded directly because twitter didnt approve my developer account."
   ]
  },
  {
   "cell_type": "markdown",
   "metadata": {},
   "source": [
    "### Assessing The Data\n"
   ]
  },
  {
   "cell_type": "markdown",
   "metadata": {},
   "source": [
    "The gather data was accessed visualy and programmatically in the notebook using various methods. Nine quality and two tidiness issues in the dataset was noted and processed to be cleaned."
   ]
  },
  {
   "cell_type": "markdown",
   "metadata": {},
   "source": [
    "#### Quality issues"
   ]
  },
  {
   "cell_type": "markdown",
   "metadata": {},
   "source": [
    "wrong datatype for the Timestamp column dtwitter archieve dataset\n",
    "\n",
    "Keep only original retweet in twitter archieve dataset\n",
    "\n",
    "Drop columns not needed in twitter archieve dataset\n",
    "\n",
    "Names in the name column of twitter archieve data set are inconsistence (lower,sentence and upper case)\n",
    "\n",
    "Extract tweet source from the html tag in the twitter archieve data set\n",
    "\n",
    "Inconsistent dog name (lower case and title case) in p1 column of image prediction data set\n",
    "\n",
    "Inconsistent dog name (lower case and title case) in p2 column of image prediction data set\n",
    "\n",
    "Inconsistent dog name (lower case and title case) in p3 column of image prediction data set\n",
    "\n",
    "Drop duplicate in jpg_url column in image prediction data set"
   ]
  },
  {
   "cell_type": "markdown",
   "metadata": {},
   "source": [
    "#### Tidiness Issue"
   ]
  },
  {
   "cell_type": "markdown",
   "metadata": {},
   "source": [
    "twitter_archieve_df and tweet_df should be merged into one dataframe\n",
    "\n",
    "tweet_df needs rearrangement (tweet_id should be the first column follow by the source)"
   ]
  },
  {
   "cell_type": "markdown",
   "metadata": {},
   "source": [
    "### Cleaning Data"
   ]
  },
  {
   "cell_type": "markdown",
   "metadata": {},
   "source": [
    "I made copies of the original data before i cleaned it. i converted the timestamp column to the right datatype. i cleaned all the issues noted during the assessing stage"
   ]
  },
  {
   "cell_type": "markdown",
   "metadata": {},
   "source": [
    "### Storing Data"
   ]
  },
  {
   "cell_type": "markdown",
   "metadata": {},
   "source": [
    "I saved the  gathered, assessed, and cleaned master dataset to a CSV file named \"twitter_archive_master.csv\". Which i later used for my exploratory analysis"
   ]
  }
 ],
 "metadata": {
  "kernelspec": {
   "display_name": "Python 3",
   "language": "python",
   "name": "python3"
  },
  "language_info": {
   "codemirror_mode": {
    "name": "ipython",
    "version": 3
   },
   "file_extension": ".py",
   "mimetype": "text/x-python",
   "name": "python",
   "nbconvert_exporter": "python",
   "pygments_lexer": "ipython3",
   "version": "3.6.3"
  }
 },
 "nbformat": 4,
 "nbformat_minor": 2
}
